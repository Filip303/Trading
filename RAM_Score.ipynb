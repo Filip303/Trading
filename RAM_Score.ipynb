{
  "nbformat": 4,
  "nbformat_minor": 0,
  "metadata": {
    "colab": {
      "provenance": []
    },
    "kernelspec": {
      "name": "python3",
      "display_name": "Python 3"
    },
    "language_info": {
      "name": "python"
    }
  },
  "cells": [
    {
      "cell_type": "code",
      "source": [
        "pip install finvizfinance"
      ],
      "metadata": {
        "colab": {
          "base_uri": "https://localhost:8080/"
        },
        "id": "j32iDatC1KnU",
        "outputId": "87eae75d-296b-425b-bcea-c265d11f8e05"
      },
      "execution_count": 5,
      "outputs": [
        {
          "output_type": "stream",
          "name": "stdout",
          "text": [
            "Collecting finvizfinance\n",
            "  Downloading finvizfinance-1.1.0-py3-none-any.whl.metadata (5.0 kB)\n",
            "Requirement already satisfied: pandas in /usr/local/lib/python3.10/dist-packages (from finvizfinance) (2.2.2)\n",
            "Requirement already satisfied: requests in /usr/local/lib/python3.10/dist-packages (from finvizfinance) (2.32.3)\n",
            "Requirement already satisfied: beautifulsoup4 in /usr/local/lib/python3.10/dist-packages (from finvizfinance) (4.12.3)\n",
            "Requirement already satisfied: lxml in /usr/local/lib/python3.10/dist-packages (from finvizfinance) (5.3.0)\n",
            "Requirement already satisfied: soupsieve>1.2 in /usr/local/lib/python3.10/dist-packages (from beautifulsoup4->finvizfinance) (2.6)\n",
            "Requirement already satisfied: numpy>=1.22.4 in /usr/local/lib/python3.10/dist-packages (from pandas->finvizfinance) (1.26.4)\n",
            "Requirement already satisfied: python-dateutil>=2.8.2 in /usr/local/lib/python3.10/dist-packages (from pandas->finvizfinance) (2.8.2)\n",
            "Requirement already satisfied: pytz>=2020.1 in /usr/local/lib/python3.10/dist-packages (from pandas->finvizfinance) (2024.2)\n",
            "Requirement already satisfied: tzdata>=2022.7 in /usr/local/lib/python3.10/dist-packages (from pandas->finvizfinance) (2024.2)\n",
            "Requirement already satisfied: charset-normalizer<4,>=2 in /usr/local/lib/python3.10/dist-packages (from requests->finvizfinance) (3.4.1)\n",
            "Requirement already satisfied: idna<4,>=2.5 in /usr/local/lib/python3.10/dist-packages (from requests->finvizfinance) (3.10)\n",
            "Requirement already satisfied: urllib3<3,>=1.21.1 in /usr/local/lib/python3.10/dist-packages (from requests->finvizfinance) (2.3.0)\n",
            "Requirement already satisfied: certifi>=2017.4.17 in /usr/local/lib/python3.10/dist-packages (from requests->finvizfinance) (2024.12.14)\n",
            "Requirement already satisfied: six>=1.5 in /usr/local/lib/python3.10/dist-packages (from python-dateutil>=2.8.2->pandas->finvizfinance) (1.17.0)\n",
            "Downloading finvizfinance-1.1.0-py3-none-any.whl (44 kB)\n",
            "\u001b[?25l   \u001b[90m━━━━━━━━━━━━━━━━━━━━━━━━━━━━━━━━━━━━━━━━\u001b[0m \u001b[32m0.0/44.3 kB\u001b[0m \u001b[31m?\u001b[0m eta \u001b[36m-:--:--\u001b[0m\r\u001b[2K   \u001b[90m━━━━━━━━━━━━━━━━━━━━━━━━━━━━━━━━━━━━━━━━\u001b[0m \u001b[32m44.3/44.3 kB\u001b[0m \u001b[31m2.5 MB/s\u001b[0m eta \u001b[36m0:00:00\u001b[0m\n",
            "\u001b[?25hInstalling collected packages: finvizfinance\n",
            "Successfully installed finvizfinance-1.1.0\n"
          ]
        }
      ]
    },
    {
      "cell_type": "code",
      "source": [
        "from finvizfinance.screener.overview import Overview\n",
        "import pandas as pd\n",
        "import numpy as np\n",
        "\n",
        "def get_mid_cap_ram():\n",
        "    # Obtener stocks de Finviz\n",
        "    screener = Overview()\n",
        "    filters_dict = {\n",
        "        'Market Cap.': '+Mid (over $2bln)',\n",
        "        'Average Volume': 'Over 500K',\n",
        "        'Price': 'Over $10'\n",
        "    }\n",
        "\n",
        "    screener.set_filter(filters_dict=filters_dict)\n",
        "    stocks_df = screener.screener_view()\n",
        "\n",
        "    # Calcular RAM para cada stock\n",
        "    ram_scores = {}\n",
        "    for idx, row in stocks_df.iterrows():\n",
        "        ticker = row['Ticker']\n",
        "        try:\n",
        "            stock = yf.Ticker(ticker)\n",
        "            hist = stock.history(period=\"2y\")\n",
        "\n",
        "            # Skip si no hay suficientes datos\n",
        "            if len(hist) < 252:\n",
        "                continue\n",
        "\n",
        "            returns = hist['Close'].pct_change()\n",
        "            realized_vol = returns.rolling(window=63).std() * np.sqrt(252)\n",
        "            vol_adj_returns = returns / realized_vol\n",
        "            ram_score = vol_adj_returns.rolling(window=252).mean().iloc[-1]\n",
        "\n",
        "            ram_scores[ticker] = {\n",
        "                'RAM_Score': ram_score,\n",
        "                'Company': row['Company'],\n",
        "                'Sector': row['Sector'],\n",
        "                'Market_Cap': row['Market Cap']\n",
        "            }\n",
        "\n",
        "        except Exception as e:\n",
        "            print(f\"Error processing {ticker}: {str(e)}\")\n",
        "            continue\n",
        "\n",
        "    # Convertir a DataFrame y ordenar por RAM score\n",
        "    ram_df = pd.DataFrame.from_dict(ram_scores, orient='index')\n",
        "    ram_df = ram_df.sort_values('RAM_Score', ascending=False)\n",
        "\n",
        "    return ram_df.head(20)\n",
        "\n",
        "# Ejecutar análisis\n",
        "top_ram = get_mid_cap_ram()\n",
        "print(\"\\nTop 20 Stocks por RAM Score:\")\n",
        "print(top_ram[['RAM_Score', 'Company', 'Sector']])"
      ],
      "metadata": {
        "colab": {
          "base_uri": "https://localhost:8080/"
        },
        "id": "-7b9CYAQ14zt",
        "outputId": "6c12b117-1c27-4e30-ffb8-a83b59551fcc"
      },
      "execution_count": 7,
      "outputs": [
        {
          "output_type": "stream",
          "name": "stdout",
          "text": []
        },
        {
          "output_type": "stream",
          "name": "stderr",
          "text": [
            "ERROR:yfinance:AHR: Period '2y' is invalid, must be one of ['1d', '5d', '1mo', '3mo', '6mo', '1y', 'ytd', 'max']\n",
            "ERROR:yfinance:ALAB: Period '2y' is invalid, must be one of ['1d', '5d', '1mo', '3mo', '6mo', '1y', 'ytd', 'max']\n",
            "ERROR:yfinance:AMTM: Period '2y' is invalid, must be one of ['1d', '5d', '1mo', '3mo', '6mo', 'ytd', 'max']\n",
            "ERROR:yfinance:AS: Period '2y' is invalid, must be one of ['1d', '5d', '1mo', '3mo', '6mo', '1y', 'ytd', 'max']\n",
            "ERROR:yfinance:BTSG: Period '2y' is invalid, must be one of ['1d', '5d', '1mo', '3mo', '6mo', '1y', 'ytd', 'max']\n",
            "ERROR:yfinance:CGON: Period '2y' is invalid, must be one of ['1d', '5d', '1mo', '3mo', '6mo', '1y', 'ytd', 'max']\n",
            "ERROR:yfinance:CON: Period '2y' is invalid, must be one of ['1d', '5d', '1mo', '3mo', '6mo', 'ytd', 'max']\n",
            "ERROR:yfinance:CORZ: Period '2y' is invalid, must be one of ['1d', '5d', '1mo', '3mo', '6mo', '1y', 'ytd', 'max']\n",
            "ERROR:yfinance:CURB: Period '2y' is invalid, must be one of ['1d', '5d', '1mo', '3mo', '6mo', 'ytd', 'max']\n",
            "ERROR:yfinance:ECG: Period '2y' is invalid, must be one of ['1d', '5d', '1mo', '3mo', 'ytd', 'max']\n",
            "ERROR:yfinance:GEV: Period '2y' is invalid, must be one of ['1d', '5d', '1mo', '3mo', '6mo', '1y', 'ytd', 'max']\n",
            "ERROR:yfinance:INGM: Period '2y' is invalid, must be one of ['1d', '5d', '1mo', '3mo', 'ytd', 'max']\n",
            "ERROR:yfinance:KLC: Period '2y' is invalid, must be one of ['1d', '5d', '1mo', '3mo', '6mo', 'ytd', 'max']\n",
            "ERROR:yfinance:LINE: Period '2y' is invalid, must be one of ['1d', '5d', '1mo', '3mo', '6mo', 'ytd', 'max']\n",
            "ERROR:yfinance:LOAR: Period '2y' is invalid, must be one of ['1d', '5d', '1mo', '3mo', '6mo', '1y', 'ytd', 'max']\n",
            "ERROR:yfinance:Failed to get ticker 'LW' reason: Expecting value: line 1 column 1 (char 0)\n",
            "ERROR:yfinance:NBIS: Period '2y' is invalid, must be one of ['1d', '5d', '1mo', '3mo', 'ytd', 'max']\n",
            "ERROR:yfinance:OS: Period '2y' is invalid, must be one of ['1d', '5d', '1mo', '3mo', '6mo', 'ytd', 'max']\n",
            "ERROR:yfinance:RBRK: Period '2y' is invalid, must be one of ['1d', '5d', '1mo', '3mo', '6mo', '1y', 'ytd', 'max']\n",
            "ERROR:yfinance:RDDT: Period '2y' is invalid, must be one of ['1d', '5d', '1mo', '3mo', '6mo', '1y', 'ytd', 'max']\n",
            "ERROR:yfinance:SARO: Period '2y' is invalid, must be one of ['1d', '5d', '1mo', '3mo', '6mo', 'ytd', 'max']\n",
            "ERROR:yfinance:SNRE: Period '2y' is invalid, must be one of ['1d', '5d', '1mo', '3mo', 'ytd', 'max']\n",
            "ERROR:yfinance:SOBO: Period '2y' is invalid, must be one of ['1d', '5d', '1mo', '3mo', '6mo', 'ytd', 'max']\n",
            "ERROR:yfinance:SOLV: Period '2y' is invalid, must be one of ['1d', '5d', '1mo', '3mo', '6mo', '1y', 'ytd', 'max']\n",
            "ERROR:yfinance:SW: Period '2y' is invalid, must be one of ['1d', '5d', '1mo', '3mo', '6mo', '1y', 'ytd', 'max']\n",
            "ERROR:yfinance:TBBB: Period '2y' is invalid, must be one of ['1d', '5d', '1mo', '3mo', '6mo', '1y', 'ytd', 'max']\n",
            "ERROR:yfinance:TEM: Period '2y' is invalid, must be one of ['1d', '5d', '1mo', '3mo', '6mo', '1y', 'ytd', 'max']\n",
            "ERROR:yfinance:TTAN: Period '2y' is invalid, must be one of ['1d', '5d', '1mo', '3mo', 'ytd', 'max']\n",
            "ERROR:yfinance:ULS: Period '2y' is invalid, must be one of ['1d', '5d', '1mo', '3mo', '6mo', '1y', 'ytd', 'max']\n",
            "ERROR:yfinance:VIK: Period '2y' is invalid, must be one of ['1d', '5d', '1mo', '3mo', '6mo', '1y', 'ytd', 'max']\n",
            "ERROR:yfinance:WAY: Period '2y' is invalid, must be one of ['1d', '5d', '1mo', '3mo', '6mo', '1y', 'ytd', 'max']\n",
            "ERROR:yfinance:ZK: Period '2y' is invalid, must be one of ['1d', '5d', '1mo', '3mo', '6mo', '1y', 'ytd', 'max']\n"
          ]
        },
        {
          "output_type": "stream",
          "name": "stdout",
          "text": [
            "\n",
            "Top 20 Stocks por RAM Score:\n",
            "      RAM_Score                        Company                  Sector\n",
            "TRGP   0.016136           Targa Resources Corp                  Energy\n",
            "VST    0.015848                    Vistra Corp               Utilities\n",
            "DTM    0.015514               DT Midstream Inc                  Energy\n",
            "FTAI   0.014384              FTAI Aviation Ltd             Industrials\n",
            "APP    0.012908                  Applovin Corp              Technology\n",
            "GGAL   0.012817   Grupo Financiero Galicia ADR               Financial\n",
            "PRMB   0.012710              Primo Brands Corp      Consumer Defensive\n",
            "SFM    0.012702     Sprouts Farmers Market Inc      Consumer Defensive\n",
            "WMT    0.012513                    Walmart Inc      Consumer Defensive\n",
            "BBAR   0.012456             BBVA Argentina ADR               Financial\n",
            "EAT    0.012374     Brinker International, Inc       Consumer Cyclical\n",
            "MPLX   0.011908                        MPLX LP                  Energy\n",
            "IBKR   0.011690  Interactive Brokers Group Inc               Financial\n",
            "SPOT   0.011485         Spotify Technology S.A  Communication Services\n",
            "WGS    0.011411           GeneDx Holdings Corp              Healthcare\n",
            "KMI    0.011370              Kinder Morgan Inc                  Energy\n",
            "OKLO   0.011337                       Oklo Inc               Utilities\n",
            "FOX    0.011228                Fox Corporation  Communication Services\n",
            "NRG    0.011157                 NRG Energy Inc               Utilities\n",
            "BSX    0.011096         Boston Scientific Corp              Healthcare\n"
          ]
        }
      ]
    }
  ]
}